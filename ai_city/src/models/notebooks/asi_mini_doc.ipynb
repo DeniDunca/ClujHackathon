{
 "cells": [
  {
   "cell_type": "markdown",
   "id": "caba1d7b",
   "metadata": {},
   "source": "#### Test sending text from pdfs to Asi One to find if the pacient has cancer"
  },
  {
   "cell_type": "code",
   "id": "af0f5b03",
   "metadata": {
    "ExecuteTime": {
     "end_time": "2025-05-25T08:06:05.341081Z",
     "start_time": "2025-05-25T08:06:05.329009Z"
    }
   },
   "source": [
    "from src.utils.utils import extract_text_from_pdf\n",
    "from src.models.asi_mini  import call_asi_one_chatbot"
   ],
   "outputs": [],
   "execution_count": 17
  },
  {
   "metadata": {
    "ExecuteTime": {
     "end_time": "2025-05-25T08:06:06.563311Z",
     "start_time": "2025-05-25T08:06:06.556321Z"
    }
   },
   "cell_type": "code",
   "source": [
    "MESSAGE_TO_READ_DIAGNOSIS = \"\"\"\n",
    "    You are a medically-aware assistant that reviews and interprets pathology reports related to cancer, especially histopathology results.\n",
    "\n",
    "Your primary goals are:\n",
    "\n",
    "    Determine if the report indicates the presence or absence of cancer.\n",
    "\n",
    "    Explain the findings in plain, compassionate language suitable for a patient with no medical background.\n",
    "\n",
    "    Clearly state if the result is benign, malignant, or uncertain — but without making a medical diagnosis.\n",
    "\n",
    "    Suggest the appropriate next steps, such as consulting a specialist, follow-up tests, or regular monitoring.\n",
    "\n",
    "    Caution the user that only a licensed physician can make a definitive diagnosis and treatment plan.\n",
    "\n",
    "You must:\n",
    "\n",
    "    Make sure the answer is shorter than 1000 tokens\n",
    "\n",
    "    Be clear, kind, and respectful in tone.\n",
    "\n",
    "    Avoid technical jargon unless you explain it.\n",
    "\n",
    "    Never give false reassurance or absolute conclusions.\n",
    "\n",
    "    Never suggest or recommend specific treatments.\n",
    "\n",
    "If the report is benign (e.g., fibroadenoma), reassure the user that it is non-cancerous and explain what that means.\n",
    "If the report shows cancer, explain gently, and suggest seeing an oncologist.\n",
    "If the results are unclear, guide the user to follow up with their doctor.\n",
    "\"\"\""
   ],
   "id": "701218647dc0e653",
   "outputs": [],
   "execution_count": 18
  },
  {
   "cell_type": "code",
   "id": "3d9cb1c2",
   "metadata": {
    "ExecuteTime": {
     "end_time": "2025-05-25T08:06:08.883696Z",
     "start_time": "2025-05-25T08:06:08.878942Z"
    }
   },
   "source": [
    "INITIAL_PROMPT = {\n",
    "    \"role\":\"system\",\n",
    "    \"content\": MESSAGE_TO_READ_DIAGNOSIS\n",
    "}"
   ],
   "outputs": [],
   "execution_count": 19
  },
  {
   "cell_type": "markdown",
   "id": "3ac44b78a67f231d",
   "metadata": {},
   "source": [
    "#### Testing for the first pdf"
   ]
  },
  {
   "cell_type": "code",
   "id": "8df90444",
   "metadata": {
    "ExecuteTime": {
     "end_time": "2025-05-25T08:06:11.055629Z",
     "start_time": "2025-05-25T08:06:11.008745Z"
    }
   },
   "source": [
    "pdf_text_result_1 = extract_text_from_pdf(\"../../../medical_results/result_1.pdf\")"
   ],
   "outputs": [],
   "execution_count": 20
  },
  {
   "cell_type": "code",
   "id": "47d61a2b",
   "metadata": {
    "ExecuteTime": {
     "end_time": "2025-05-25T08:06:20.376609Z",
     "start_time": "2025-05-25T08:06:11.976634Z"
    }
   },
   "source": [
    "print(\n",
    "    call_asi_one_chatbot(\n",
    "        [\n",
    "            INITIAL_PROMPT,\n",
    "            {\"role\": \"user\", \"content\": pdf_text_result_1}\n",
    "        ],\n",
    "        1000\n",
    "    )\n",
    ")"
   ],
   "outputs": [
    {
     "name": "stdout",
     "output_type": "stream",
     "text": [
      "**Rezultatul este benign — fibroadenom mamar.**  \n",
      "\n",
      "Biopsia a arătat că formațiunea de la nivelul sânilui drept este un **fibroadenom mamar**, o leziune **non-canceroasă**, foarte des întâlnită, în special la femei tinere. Nu este cancer și de obicei nu crește sau nu se transformă în cancer.  \n",
      "\n",
      "**Ce înseamnă acest diagnostic?**  \n",
      "Fibroadenoamele sunt formațiuni solide, de obicei rotunde, care pot apărea la orice vârstă, dar mai ales între 15 și 35 de ani. Ele sunt de regulă inofensive și pot fi monitorizate sau, dacă sunt mari sau determină disconfort, pot fi scoase chirurgical (ca în acest caz).  \n",
      "\n",
      "**Ce să faceți în continuare?**  \n",
      "— Discutați cu medicul dumneavoastră de familie sau cu un specialist chirurgical sau ginecolog despre rezultat.  \n",
      "— Dacă formațiunea a fost deja excizată (scoasă complet), nu este nevoie, de regulă, de alte tratamente — dar este bine să continuați monitorizarea periodică a sânilor.  \n",
      "— Faceți ecografie sau mamografie periodică, dacă medicul dumneavoastră le consideră necesare.  \n",
      "\n",
      "**Important:**  \n",
      "Acest raport este interpretat de mine în mod general. Doar medicul dumneavoastră curant poate confirma diagnosticul și vă poate ghida pașii următori. Nu ezitați să cereți clarificări dacă aveți nelămuriri.  \n",
      "\n",
      "Totul pare să fie în regulă, dar rămâne ca medicul dumneavoastră să confirme și să vă dea liniștea emoțională.\n"
     ]
    }
   ],
   "execution_count": 21
  },
  {
   "cell_type": "markdown",
   "id": "c1f867cd291caed8",
   "metadata": {},
   "source": [
    "#### Testing for the second pdf"
   ]
  },
  {
   "cell_type": "code",
   "id": "8c96c84a",
   "metadata": {
    "ExecuteTime": {
     "end_time": "2025-05-25T08:06:26.903972Z",
     "start_time": "2025-05-25T08:06:26.886301Z"
    }
   },
   "source": [
    "pdf_text_result_2 = extract_text_from_pdf(\"../../../medical_results/result_2.pdf\")"
   ],
   "outputs": [],
   "execution_count": 22
  },
  {
   "cell_type": "code",
   "id": "553799be",
   "metadata": {
    "ExecuteTime": {
     "end_time": "2025-05-25T08:06:39.270242Z",
     "start_time": "2025-05-25T08:06:28.513543Z"
    }
   },
   "source": [
    "print(\n",
    "    call_asi_one_chatbot(\n",
    "        [\n",
    "            INITIAL_PROMPT,\n",
    "            {\"role\": \"user\", \"content\": pdf_text_result_2}\n",
    "        ],\n",
    "        1000\n",
    "    )\n",
    ")"
   ],
   "outputs": [
    {
     "name": "stdout",
     "output_type": "stream",
     "text": [
      "Buletinul histopatologic indică prezența unui **carcinom mamar invaziv, NST (nu este special tip)**, **slab diferențiat**. Acesta este un tip de cancer de sân care a crescut în mod agresiv și are un grad ridicicat (Gradul 3), ceea ce înseamnă că celulele tumorale arată semnificativ diferit de celulele normale și se pot divide rapid.\n",
      "\n",
      "### Ce înseamnă aceste rezultate mai simplu spus:\n",
      "- Tumora conține **celule care nu mai arată ca celulele normale ale sânilor** și s-au înmulțit într-un mod neregulat.\n",
      "- Au fost văzute multe diviziuni celulare (mitoze), ceea ce indică o creștere rapidă.\n",
      "- **Receptorii hormonali ER și PR** sunt puțin activi (ER este prezent doar în 20% din celule, iar PR doar în 2%), ceea ce înseamnă că această tumoare este probabilă să nu răspundă bine la hormoni.\n",
      "- **Receptorul HER2 este negativ**, deci nu este responsabil pentru creșterea acestei tumori.\n",
      "- **Ki67 este 50%**, ceea ce înseamnă că o parte mare din celule sunt în faze active de diviziune.\n",
      "\n",
      "### Ce trebuie să faceți mai departe:\n",
      "- Este foarte important să **consultați un oncolog medical** pentru o evaluare completă și stabilirea planului de tratament.\n",
      "- Medicul va analiza rezultatul împreună cu alte informații (cum ar fi investigațiile imagistice, stadiul bolii, starea generală de sănătate) pentru a decide următorii pași.\n",
      "- Poate fi necesară o chimioterapie, radioterapie sau alte tratamente specifice, în funcție de recomandarea specialistului.\n",
      "\n",
      "⚠️ **Notă importantă:** Doar medicul dumneavoastră curant sau un oncolog pot confirma diagnosticul și propune un tratament adaptat nevoilor dumneavoastră.\n",
      "\n",
      "Vă încurajez să discutați acest raport mai în detaliu cu medicul, care va putea răspunde la eventualele întrebări pe care le aveți. Nu ezitați să cereți un nou consult dacă aveți nelămuriri.\n"
     ]
    }
   ],
   "execution_count": 23
  },
  {
   "cell_type": "markdown",
   "id": "d2cce7ff",
   "metadata": {},
   "source": [
    "### Testing with a \"knowledge base\""
   ]
  },
  {
   "cell_type": "code",
   "id": "af33597d",
   "metadata": {
    "ExecuteTime": {
     "end_time": "2025-05-25T08:06:45.726744Z",
     "start_time": "2025-05-25T08:06:45.178055Z"
    }
   },
   "source": [
    "cancer_information_1 = extract_text_from_pdf(\"../../../data/stage_0_breast-patient.pdf\")\n",
    "#cancer_information_2 = extract_text_from_pdf(\"../../../data/suport_curs.pdf\")\n",
    "\n",
    "### Token context length is 64000 tokens, so only the first pdf can be processed"
   ],
   "outputs": [],
   "execution_count": 24
  },
  {
   "cell_type": "code",
   "id": "d629a96e",
   "metadata": {
    "ExecuteTime": {
     "end_time": "2025-05-25T08:06:47.655944Z",
     "start_time": "2025-05-25T08:06:47.651050Z"
    }
   },
   "source": [
    "PROMPT_TO_ANSWER_FROM_PDF = {\n",
    "    \"role\":\"system\",\n",
    "    \"content\": MESSAGE_TO_READ_DIAGNOSIS + cancer_information_1\n",
    "}"
   ],
   "outputs": [],
   "execution_count": 25
  },
  {
   "cell_type": "code",
   "id": "14a8391e",
   "metadata": {
    "ExecuteTime": {
     "end_time": "2025-05-25T08:07:10.935268Z",
     "start_time": "2025-05-25T08:06:52.313293Z"
    }
   },
   "source": [
    "print(call_asi_one_chatbot(\n",
    "    [\n",
    "        PROMPT_TO_ANSWER_FROM_PDF,\n",
    "        {\"role\": \"user\", \"content\": pdf_text_result_1},\n",
    "    ],\n",
    "    1000\n",
    "))"
   ],
   "outputs": [
    {
     "name": "stdout",
     "output_type": "stream",
     "text": [
      "Drage Camelia,\n",
      "\n",
      "Pe baza raportului tău de anatomie patologică, am interpretat rezultatele pentru tine, cu o explicație clară și ușor de înțeles.\n",
      "\n",
      "---\n",
      "\n",
      "### 🔬 **Diagnostic Histopatologic: Fibroadenom Mamar**\n",
      "Raportul spune că formațiunea analizată are un aspect **histologic compatibil cu un fibroadenom mamar**.\n",
      "\n",
      "#### Ce este un fibroadenom?\n",
      "Un **fibroadenom** este o **tumore benignă** (noncanceroasă) a sânului, foarte frecvent întâlnită la femei tinere. Nu este periculos pentru sănătate și **nu evoluează în mod obișnuit în cancer**.\n",
      "\n",
      "Este compus dintr-un amestec de țesut conjunctiv (stroma) și celule glandulare. Așa cum este menționat în raport:\n",
      "- Are structură **peri- și intracanaliculară** — adică implică ductele mamare.\n",
      "- Prezintă **hiperplazie epitelială cribriformă tipică** și unele **chisturi mamare** sau **metaplazie apocrină**.\n",
      "- Toate acestea sunt **schimbări benigne**, adesea văzute în fibroadenoame.\n",
      "\n",
      "---\n",
      "\n",
      "### ⚠️ **Atenție**\n",
      "- A fost observată **hiperplazie epitelială redusă.** În unele cazuri, aceasta poate sugera o activitate celulară ușor crescută, dar în contextul unui fibroadenom, **nu este un semn de malignitate** (cancer).\n",
      "- Acest tip de leziune poate necesita **monitorizare periodică** prin ecografii mamare.\n",
      "\n",
      "---\n",
      "\n",
      "### ✅ **Ce înseamnă pentru tine?**\n",
      "- **Nu ai cancer de sân**.\n",
      "- Ai o afecțiune **benignă**, dar poate fi recomandat să revizuiești mamele periodic (ecografie/an) pentru a fi sigură că nu apar alte formațiuni.\n",
      "- De asemenea, uneori medicul poate sugera investigații suplimentare dacă formațiunea are anumite caracteristici atipice (deși în cazul tău raportul nu indică astfel de semne).\n",
      "\n",
      "---\n",
      "\n",
      "### 🩺 **Ce ar trebui să faci mai departe?**\n",
      "1. **Vezi un specialist chirurgical sau oncologic de sâni.**\n",
      "   - Discută cu el rezultatele histopatologic definite.\n",
      "   - Confirmă dacă excizia a fost completă și dacă mai e necesară vreo investigație (ex. mamografie suplimentară).\n",
      "2. **Monitorizare periodică:**\n",
      "   - Ecografie *anuală*.\n",
      "   - Autoexaminarea sânilor lunar.\n",
      "3. Dacă ai vreo nelămurire sau diagnostic clinic făcut anterior de \"fibroadenom\", asigură-te că fibroadenomul a fost complet scos.\n",
      "4. **Nu este necesar tratament suplimentar** în acest caz dacă zona a fost complet excizată și nu revine nicio neregulă la urmărirea medicală.\n",
      "\n",
      "---\n",
      "\n",
      "### 💬 Recomandare\n",
      "Cheie întreabă medicul tău curant:\n",
      "- „A fost complet îndepărtat fibroadenomul?”\n",
      "- „Mai am nevoie de investigații suplimentare?”\n",
      "- „Ce monitorizare este recomandată pentru mine?”\n",
      "\n",
      "---\n",
      "\n",
      "Dacă vrei, te pot ajuta să formulezi întrebări în funcție de ce dorești să știi de la medicul specialist. Spor la următoarea întâlnire medicală! 💛\n"
     ]
    }
   ],
   "execution_count": 26
  }
 ],
 "metadata": {
  "kernelspec": {
   "display_name": "venv",
   "language": "python",
   "name": "python3"
  },
  "language_info": {
   "codemirror_mode": {
    "name": "ipython",
    "version": 3
   },
   "file_extension": ".py",
   "mimetype": "text/x-python",
   "name": "python",
   "nbconvert_exporter": "python",
   "pygments_lexer": "ipython3",
   "version": "3.13.3"
  }
 },
 "nbformat": 4,
 "nbformat_minor": 5
}
