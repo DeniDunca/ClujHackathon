{
 "cells": [
  {
   "cell_type": "markdown",
   "id": "caba1d7b",
   "metadata": {},
   "source": [
    "#### Test sending text from pdfs to Asi One to find if the pacient has cancer "
   ]
  },
  {
   "cell_type": "code",
   "id": "af0f5b03",
   "metadata": {
    "ExecuteTime": {
     "end_time": "2025-05-24T21:28:56.089644Z",
     "start_time": "2025-05-24T21:28:55.510543Z"
    }
   },
   "source": [
    "from src.utils.utils import extract_text_from_pdf\n",
    "from src.models.asi_mini  import call_asi_one_chatbot"
   ],
   "outputs": [],
   "execution_count": 1
  },
  {
   "cell_type": "code",
   "id": "3d9cb1c2",
   "metadata": {
    "ExecuteTime": {
     "end_time": "2025-05-24T21:28:58.762441Z",
     "start_time": "2025-05-24T21:28:58.757867Z"
    }
   },
   "source": [
    "INITIAL_PROMPT = {\n",
    "    \"role\":\"system\",\n",
    "    \"content\": \"\"\"\n",
    "    You are a medically-aware assistant that reviews and interprets pathology reports related to cancer, especially histopathology results.\n",
    "\n",
    "Your primary goals are:\n",
    "\n",
    "    Determine if the report indicates the presence or absence of cancer.\n",
    "\n",
    "    Explain the findings in plain, compassionate language suitable for a patient with no medical background.\n",
    "\n",
    "    Clearly state if the result is benign, malignant, or uncertain — but without making a medical diagnosis.\n",
    "\n",
    "    Suggest the appropriate next steps, such as consulting a specialist, follow-up tests, or regular monitoring.\n",
    "\n",
    "    Caution the user that only a licensed physician can make a definitive diagnosis and treatment plan.\n",
    "\n",
    "You must:\n",
    "\n",
    "    Make sure the answer is shorter than 1000 tokens\n",
    "\n",
    "    Be clear, kind, and respectful in tone.\n",
    "\n",
    "    Avoid technical jargon unless you explain it.\n",
    "\n",
    "    Never give false reassurance or absolute conclusions.\n",
    "\n",
    "    Never suggest or recommend specific treatments.\n",
    "\n",
    "If the report is benign (e.g., fibroadenoma), reassure the user that it is non-cancerous and explain what that means.\n",
    "If the report shows cancer, explain gently, and suggest seeing an oncologist.\n",
    "If the results are unclear, guide the user to follow up with their doctor.\n",
    "\"\"\"\n",
    "}"
   ],
   "outputs": [],
   "execution_count": 2
  },
  {
   "metadata": {},
   "cell_type": "markdown",
   "source": "#### Testing for the first pdf",
   "id": "3ac44b78a67f231d"
  },
  {
   "metadata": {
    "ExecuteTime": {
     "end_time": "2025-05-24T21:29:01.092959Z",
     "start_time": "2025-05-24T21:29:01.071485Z"
    }
   },
   "cell_type": "code",
   "source": "pdf_text_result_1 = extract_text_from_pdf(\"../../../medical_results/result_1.pdf\")",
   "id": "8df90444",
   "outputs": [],
   "execution_count": 3
  },
  {
   "cell_type": "code",
   "id": "47d61a2b",
   "metadata": {
    "ExecuteTime": {
     "end_time": "2025-05-24T21:29:11.668922Z",
     "start_time": "2025-05-24T21:29:02.842922Z"
    }
   },
   "source": [
    "print(\n",
    "    call_asi_one_chatbot(\n",
    "        [\n",
    "            INITIAL_PROMPT,\n",
    "            {\"role\": \"user\", \"content\": pdf_text_result_1}\n",
    "        ],\n",
    "        1000\n",
    "    )\n",
    ")"
   ],
   "outputs": [
    {
     "name": "stdout",
     "output_type": "stream",
     "text": [
      "Din raportul de anatomie patologică, rezultă că a fost diagnosticat **fibroadenom mamar**. Acesta este un tip de **formatiune benignă (necanceroasă)** a sânului, foarte comună, în special la femei tinere.\n",
      "\n",
      "### Ce înseamnă aceasta?\n",
      "Un fibroadenom este o tumoare benignă formată din țesut conjunctiv și glandular. Nu este cancer și, de obicei, nu crește sau nu se răspândește în alte părți ale corpului. Fibroadenoamele nu cresc întotdeauna și pot rămâne de același dimensiuni în timp.\n",
      "\n",
      "### Ce spune examenul histopatologic?\n",
      "- S-a analizat țesutul scos în timpul unei excizii chirurgicale.\n",
      "- S-a observat un fibroadenom, ceea ce confirmă caracterul **benign** al leziunii.\n",
      "- Nu s-au găsit celule canceroase sau alte modificări suspecte.\n",
      "\n",
      "### Ce trebuie să faceți în continuare?\n",
      "1. **Discutați rezultatul cu medicul dvs. curant** – el va putea confirma interpretarea și vă va explica dacă mai este nevoie de alte investigații.\n",
      "2. **Revizii periodice** – deși fibroadenoamele sunt inofensive, este recomandat să faceți monitorizare periodică cu ecografie mamară, mai ales dacă apar alte noduli.\n",
      "3. **Nu vă faceți griji inutil** – un fibroadenom este o afecțiune comună și nu este o afecțiune care pune viața în pericol.\n",
      "\n",
      "### Atenție!\n",
      "Numai medicul dvs. curant sau un specialist (mamolog sau chirurg) poate decide dacă este nevoie de alte examinări sau măsuri suplimentare. Nu este cazul să vă alarmati, dar este important să urmați recomandările lor.\n",
      "\n",
      "Dacă aveți întrebări suplimentare, sunt aici să vă ajut.\n"
     ]
    }
   ],
   "execution_count": 4
  },
  {
   "metadata": {},
   "cell_type": "markdown",
   "source": "#### Testing for the second pdf",
   "id": "c1f867cd291caed8"
  },
  {
   "cell_type": "code",
   "id": "8c96c84a",
   "metadata": {
    "ExecuteTime": {
     "end_time": "2025-05-24T21:29:21.797126Z",
     "start_time": "2025-05-24T21:29:21.779092Z"
    }
   },
   "source": "pdf_text_result_2 = extract_text_from_pdf(\"../../../medical_results/result_2.pdf\")",
   "outputs": [],
   "execution_count": 5
  },
  {
   "cell_type": "code",
   "id": "553799be",
   "metadata": {
    "ExecuteTime": {
     "end_time": "2025-05-24T21:29:59.555755Z",
     "start_time": "2025-05-24T21:29:48.342072Z"
    }
   },
   "source": [
    "print(\n",
    "    call_asi_one_chatbot(\n",
    "        [\n",
    "            INITIAL_PROMPT,\n",
    "            {\"role\": \"user\", \"content\": pdf_text_result_2}\n",
    "        ],\n",
    "        1000\n",
    "    )\n",
    ")"
   ],
   "outputs": [
    {
     "name": "stdout",
     "output_type": "stream",
     "text": [
      "Bună! Îți înțeleg pe deplin grija și curiozitatea ta legate de acest raport histopatologic. Să îți explic în câteva cuvinte ce înseamnă aceste rezultate:\n",
      "\n",
      "### Ce spune raportul?\n",
      "- S-a analizat un fragment de țesut din sânul stâng (datorită unei leziuni descoperite anterior).\n",
      "- La microscop s-au găsit celule anormale care indică un **cancer de sân** – mai exact un **carcinom invaziv mamar NST (carcinom mamar invaziv fără tip special)**, care este **slab diferențiat**, adică celulele arată mai agresiv.\n",
      "- S-au făcut și teste speciale (analize imunohistochimice), care arată profilul tumorii:\n",
      "  - **RE (receptori estrogenici):** ușor pozitiv (20%).\n",
      "  - **RP (receptori progestins):** foarte slab pozitiv (2%).\n",
      "  - **Ki67:** 50% (acest marker arată că celulele se divid rapid).\n",
      "  - **HER2:** negativ.\n",
      "\n",
      "### Ce înseamnă asta pentru tine?\n",
      "Aceste rezultate indică **prezența unui cancer de sân**, dar trebuie discutate de un medic specialist oncolog pentru a decide etapele următoare. Acest raport este doar o piesă din întregul tablou. Nu știe el singur totul, iar medicul tău îți va explica în detaliu ce urmează.\n",
      "\n",
      "### Urmează ce?\n",
      "- Este recomandat **să te consulți cu un medic oncolog**.\n",
      "- Poate să fie necesară suplimentar o **investigație imagistică** (mastografie, RMN, uneori CT sau scintigrafie osoasă) pentru a vedea dacă există răspândirea bolii în afara sânului.\n",
      "- Oncologul poate recomanda diverse tipuri de tratament, în funcție de prognostic și stadiu – dar **nu iau decizii** doar pe baza acestui raport.\n",
      "\n",
      "### Un cuvânt important:\n",
      "Doar medicul tău curant sau un **oncolog experimentat** îți poate da un diagnostic clar și un plan de îngrijire. Nu te baza doar pe ce citești aici. Fii curajoasă – cu un diagnostic timpuriu și îngrijire adecvată, multe femei duc un stil de viață sănătos și longevitativ.\n",
      "\n",
      "Dacă ai și alte întrebări, sunt aici, mereu.\n"
     ]
    }
   ],
   "execution_count": 6
  },
  {
   "cell_type": "markdown",
   "id": "d2cce7ff",
   "metadata": {},
   "source": "### Testing with a \"knowledge base\""
  },
  {
   "cell_type": "code",
   "id": "af33597d",
   "metadata": {
    "ExecuteTime": {
     "end_time": "2025-05-24T21:30:40.667650Z",
     "start_time": "2025-05-24T21:30:40.478449Z"
    }
   },
   "source": "cancer_information_1 = extract_text_from_pdf(\"../../../data/stage_0_breast-patient.pdf\")",
   "outputs": [],
   "execution_count": 7
  },
  {
   "cell_type": "code",
   "id": "d629a96e",
   "metadata": {
    "ExecuteTime": {
     "end_time": "2025-05-24T21:30:46.714054Z",
     "start_time": "2025-05-24T21:30:46.709108Z"
    }
   },
   "source": [
    "PROMPT_TO_ANSWER_FROM_PDF = {\n",
    "    \"role\":\"system\",\n",
    "    \"content\":\n",
    "    \"\"\"\n",
    "    You are a medical assistant that interprets cancer-related pathology reports (such as histopathology results) provided to you as PDF content by the system.\n",
    "\n",
    "    Your response must:\n",
    "\n",
    "        Use only the information from the PDF — do not ask the user for more details or follow-up input.\n",
    "\n",
    "        Briefly state whether the report suggests:\n",
    "\n",
    "            a benign finding (e.g., fibroadenoma),\n",
    "\n",
    "            a malignant (cancerous) finding, or\n",
    "\n",
    "            an inconclusive or unclear result.\n",
    "\n",
    "        Explain the meaning in plain, simple language (no unexplained jargon).\n",
    "\n",
    "        Suggest appropriate next steps such as consulting a doctor or scheduling a follow-up — without giving medical advice or making a diagnosis.\n",
    "\n",
    "        Remind the user that only a licensed physician can confirm the diagnosis and recommend treatment.\n",
    "\n",
    "    Keep responses:\n",
    "\n",
    "        Concise (under 200 words)\n",
    "\n",
    "        Compassionate and professional\n",
    "\n",
    "        Strictly based on the PDF report provided at all costs. If the user asks follow-up or related questions, respond only using the context and documents you were provided. If the answer is not available, reply:\n",
    "\n",
    "“I’m sorry, I don’t have that information.”\n",
    "\n",
    "Do not rely on user messages or questions — respond based solely on the content in the PDF.\n",
    "\n",
    "\"\"\" + cancer_information_1\n",
    "}"
   ],
   "outputs": [],
   "execution_count": 8
  },
  {
   "cell_type": "code",
   "id": "14a8391e",
   "metadata": {
    "ExecuteTime": {
     "end_time": "2025-05-24T21:31:11.359970Z",
     "start_time": "2025-05-24T21:30:55.910898Z"
    }
   },
   "source": [
    "print(call_asi_one_chatbot(\n",
    "    [\n",
    "        PROMPT_TO_ANSWER_FROM_PDF,\n",
    "        {\"role\": \"user\", \"content\": pdf_text_result_1},\n",
    "    ],\n",
    "    1000\n",
    "))"
   ],
   "outputs": [
    {
     "name": "stdout",
     "output_type": "stream",
     "text": [
      "### Interpretare Bilet Anatomie Patologică  \n",
      "\n",
      "#### Tipul Raportului:  \n",
      "Documentul este un **bilet de analiză histopatologică**, emis de un laborator specializat, care detaliazi rezultatele examinării unei piese chirurgicale provenite de la nivelul sânului drept al pacientei **Nimas Camelia**.  \n",
      "\n",
      "---\n",
      "\n",
      "#### Rezultatul Principal:  \n",
      "- **Fiind confirmat caracterul benign al leziunii, nu există dovezi de malignitate (cancer).**  \n",
      "\n",
      "Diagnostic histologic:  \n",
      "> **\"Aspectul histologic apartine unui fibroadenom mamar.\"**  \n",
      "\n",
      "---\n",
      "\n",
      "#### Ce este un fibroadenom?  \n",
      "- Un **fibroadenom** este o **tumora benignă (necanceroasă)** comună la nivelul glandei mamare. Este formată din combinația de țesut conjunctiv (fibros) și celule epiteliale.  \n",
      "- Fibroadenoamele sunt:\n",
      "  - Frecvente la femeile tinere.  \n",
      "  - Mibile, ușor delimitate, nedureroase.  \n",
      "  - Necesită monitorizare, dar de obicei nu evoluează spre malignizare.  \n",
      "\n",
      "---\n",
      "\n",
      "#### Ce dovedește raportul:  \n",
      "1. **Diagnoza inițială clinică (\"fibroadenom\") este confirmată la nivel microscopic.**  \n",
      "2. S-au descoperit modificări specifice fibroadenomului (descriere microscopică):  \n",
      "   - Structură **peri și intracanaliculară** (organizată în jurul și în interiorul canalelor glandulare).  \n",
      "   - **Hiperplazie epitelială redusă**, **metaplazie apocrină mică**, și prezența unor **chisturi mamare mici**.  \n",
      "3. Nu s-a indentificat nicio leziune malignă.  \n",
      "\n",
      "---\n",
      "\n",
      "#### Recomandări:  \n",
      "1. Interpretarea acestor rezultate trebuie să fie făcută în context clinic de către medicul curant (de obicei un chirurg, ginecolog sau oncolog).  \n",
      "2. Deși fibroadenoamele sunt benigne, uneori se recomandă **monitorizare periodică** prin examinări imagistice (ecografie, RMN).  \n",
      "3. În funcție de dimensiunea și natura leziunii, **nu este necesară o altă intervenție chirurgicală**, dacă fibroadenomul este complet excizat (după cum se menționează și în raport).  \n",
      "\n",
      "---\n",
      "\n",
      "#### Concluzie:  \n",
      "Diagnosticul histologic confirmă prezența unui **fibroadenom mamar benign**, fără caracteristici de malignitate. Nu se impune tratament adițional. Este recomandat doar să discutați cu medicul dumneavoastră curant pentru o recomandare personalizată și eventuale investigații suplimentare.  \n",
      "\n",
      "---\n",
      "\n",
      "❗ ATENȚIE: Această interpretare este **orientativă** și nu substituie părerea unui medic specialist.  \n",
      "\n",
      "Succes în continuare și sănătate multă!\n"
     ]
    }
   ],
   "execution_count": 9
  },
  {
   "cell_type": "code",
   "execution_count": null,
   "id": "d1a6611e",
   "metadata": {},
   "outputs": [],
   "source": []
  }
 ],
 "metadata": {
  "kernelspec": {
   "display_name": "venv",
   "language": "python",
   "name": "python3"
  },
  "language_info": {
   "codemirror_mode": {
    "name": "ipython",
    "version": 3
   },
   "file_extension": ".py",
   "mimetype": "text/x-python",
   "name": "python",
   "nbconvert_exporter": "python",
   "pygments_lexer": "ipython3",
   "version": "3.13.3"
  }
 },
 "nbformat": 4,
 "nbformat_minor": 5
}
