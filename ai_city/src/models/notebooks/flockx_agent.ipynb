{
 "cells": [
  {
   "cell_type": "markdown",
   "id": "fdf6e297",
   "metadata": {},
   "source": [
    "### Flockx API not available >:("
   ]
  },
  {
   "cell_type": "code",
   "id": "91277bc5",
   "metadata": {
    "ExecuteTime": {
     "end_time": "2025-05-24T21:31:45.265388Z",
     "start_time": "2025-05-24T21:31:44.924120Z"
    }
   },
   "source": [
    "import os\n",
    "from dotenv import load_dotenv\n",
    "import requests\n",
    "import json"
   ],
   "outputs": [],
   "execution_count": 1
  },
  {
   "cell_type": "code",
   "id": "21614f14",
   "metadata": {
    "ExecuteTime": {
     "end_time": "2025-05-24T21:31:49.412726Z",
     "start_time": "2025-05-24T21:31:49.407665Z"
    }
   },
   "source": [
    "load_dotenv()\n",
    "\n",
    "FLOCKX_KEY = os.getenv('FLOCKX_KEY')\n",
    "AGENT_ID = \"af1d4156-2b7b-45cc-98d2-ee8f96652c56\""
   ],
   "outputs": [],
   "execution_count": 2
  },
  {
   "cell_type": "code",
   "id": "c7140a96",
   "metadata": {
    "ExecuteTime": {
     "end_time": "2025-05-24T21:31:52.131093Z",
     "start_time": "2025-05-24T21:31:52.126850Z"
    }
   },
   "source": [
    "def call_flockx_agent(user_input):\n",
    "    headers = {\n",
    "        'Content-Type': 'application/json',\n",
    "        'Authorization': f'Token {FLOCKX_KEY}'\n",
    "    }\n",
    "\n",
    "    payload = json.dumps({\n",
    "        \"agent_id\": AGENT_ID,\n",
    "        \"input\": user_input\n",
    "    })\n",
    "\n",
    "    url = f\"https://api.flockx.io/api/v1/agents/{AGENT_ID}/prompt\"\n",
    "\n",
    "    response = requests.post(url, headers=headers, data=payload)\n",
    "\n",
    "    if response.status_code == 200:\n",
    "        return response.json().get(\"response\", \"No response\")\n",
    "    else:\n",
    "        return f\"Error: {response.status_code}, {response.text}\""
   ],
   "outputs": [],
   "execution_count": 3
  },
  {
   "cell_type": "code",
   "id": "6376aedf",
   "metadata": {
    "ExecuteTime": {
     "end_time": "2025-05-24T21:31:54.750970Z",
     "start_time": "2025-05-24T21:31:53.798083Z"
    }
   },
   "source": [
    "print(call_flockx_agent(\"I want to know if I have breast cancer\"))"
   ],
   "outputs": [
    {
     "name": "stdout",
     "output_type": "stream",
     "text": [
      "Error: 500, Internal Server Error\n"
     ]
    }
   ],
   "execution_count": 4
  }
 ],
 "metadata": {
  "kernelspec": {
   "display_name": "venv",
   "language": "python",
   "name": "python3"
  },
  "language_info": {
   "codemirror_mode": {
    "name": "ipython",
    "version": 3
   },
   "file_extension": ".py",
   "mimetype": "text/x-python",
   "name": "python",
   "nbconvert_exporter": "python",
   "pygments_lexer": "ipython3",
   "version": "3.13.3"
  }
 },
 "nbformat": 4,
 "nbformat_minor": 5
}
