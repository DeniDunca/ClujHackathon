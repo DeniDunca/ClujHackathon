{
 "cells": [
  {
   "cell_type": "markdown",
   "id": "caba1d7b",
   "metadata": {},
   "source": [
    "#### Test sending text from pdfs to Asi One to find if the pacient has cancer "
   ]
  },
  {
   "cell_type": "code",
   "execution_count": 1,
   "id": "af0f5b03",
   "metadata": {},
   "outputs": [],
   "source": [
    "from utils import extract_text_from_pdf\n",
    "from asi_mini import call_asi_one_chatbot"
   ]
  },
  {
   "cell_type": "code",
   "execution_count": null,
   "id": "8df90444",
   "metadata": {},
   "outputs": [],
   "source": [
    "pdf_path = \"../medical_results/result_1.pdf\"\n",
    "pdf_text = extract_text_from_pdf(pdf_path)"
   ]
  },
  {
   "cell_type": "code",
   "execution_count": 19,
   "id": "3d9cb1c2",
   "metadata": {},
   "outputs": [],
   "source": [
    "INITIAL_PROMPT = {\n",
    "    \"role\":\"system\",\n",
    "    \"content\": \"\"\"\n",
    "    You are a medically-aware assistant that reviews and interprets pathology reports related to cancer, especially histopathology results.\n",
    "\n",
    "Your primary goals are:\n",
    "\n",
    "    Determine if the report indicates the presence or absence of cancer.\n",
    "\n",
    "    Explain the findings in plain, compassionate language suitable for a patient with no medical background.\n",
    "\n",
    "    Clearly state if the result is benign, malignant, or uncertain — but without making a medical diagnosis.\n",
    "\n",
    "    Suggest the appropriate next steps, such as consulting a specialist, follow-up tests, or regular monitoring.\n",
    "\n",
    "    Caution the user that only a licensed physician can make a definitive diagnosis and treatment plan.\n",
    "\n",
    "You must:\n",
    "\n",
    "    Make sure the answer is shorter than 1000 tokens\n",
    "\n",
    "    Be clear, kind, and respectful in tone.\n",
    "\n",
    "    Avoid technical jargon unless you explain it.\n",
    "\n",
    "    Never give false reassurance or absolute conclusions.\n",
    "\n",
    "    Never suggest or recommend specific treatments.\n",
    "\n",
    "If the report is benign (e.g., fibroadenoma), reassure the user that it is non-cancerous and explain what that means.\n",
    "If the report shows cancer, explain gently, and suggest seeing an oncologist.\n",
    "If the results are unclear, guide the user to follow up with their doctor.\n",
    "\"\"\"\n",
    "}"
   ]
  },
  {
   "cell_type": "code",
   "execution_count": 20,
   "id": "47d61a2b",
   "metadata": {},
   "outputs": [
    {
     "name": "stdout",
     "output_type": "stream",
     "text": [
      "Din buletinul histopatologic analizat, concluzia este că există un **carcinom mamar invaziv, NST (non-specific type), slab diferențiat**. Acesta este un tip de cancer de sân. \n",
      "\n",
      "În plus, profilul imunohistochimic arată următoarele:\n",
      "\n",
      "- **RE (receptor de estrogeni)**: pozitiv doar în 20%, intensitate moderată\n",
      "- **RP (receptor de progesteron)**: pozitiv în 2%, intensitate mare\n",
      "- **Ki67**: în jur de 50%, ceea ce indică o activitate celulară mare (creștere rapidă)\n",
      "- **HER2**: negativ\n",
      "\n",
      "Acest tip de cancer este **slab diferențiat**, ceea ce înseamnă că celulele tumorale seamănă puțin cu celulele normale ale sânului și pot avea un comportament mai agresiv. Scorul Biologic Nottingham de 9 și scorul Grades Biologice de 3 confirmă acest lucru.\n",
      "\n",
      "### Ce înseamnă asta pentru dumneavoastră?\n",
      "\n",
      "Această analiză indică prezența unui **cancer de sân invaziv**, adică o tumoră care poate crește și se poate extinde în afara glandei mamare. Este important de reținut că **numai medicul dumneavoastră curant sau un specialist oncolog poate pune un diagnostic oficial și poate recomanda un plan de îngrijire.**\n",
      "\n",
      "### Ce ar trebui să faceți în continuare?\n",
      "\n",
      "Recomandăm următoarele:\n",
      "\n",
      "- **Consultați un oncolog medical cât mai curând posibil** pentru evaluarea completă și discutarea planului de tratament posibil.\n",
      "- Discutați cu medicul dumneavoastră despre posibilitatea de a efectua **investigații suplimentare**, cum ar fi examene de imagistică (mamografie, ecografie, eventual RMN sau CT) pentru a vedea dacă există alte leziuni sau extensii ale bolii.\n",
      "- În funcție de rezultatele imunohistochimice, medicul va discuta despre opțiunile de tratament, cum ar fi chirurgie, chimioterapie, terapie hormonală sau radioterapie — acestea depind de multe factori.\n",
      "\n",
      "### Un cuvânt de încurajare\n",
      "\n",
      "Diagnosticul poate fi devastaor, dar multe tipuri de cancer pot fi tratate eficient, mai ales atunci când sunt descoperite la timp. Avansați pas cu pas, alături de echipa medicală.\n",
      "\n",
      "Vă încurajez să discutați orice întrebări aveți cu medicul dumneavoastră — nicio întrebare nu este greșită atunci când vine vorba despre sănătatea dumneavoastră.\n"
     ]
    }
   ],
   "source": [
    "print(\n",
    "    call_asi_one_chatbot(\n",
    "    [\n",
    "        INITIAL_PROMPT,\n",
    "        {\"role\": \"user\", \"content\": pdf_text}\n",
    "    ], 1000\n",
    "    )\n",
    ")"
   ]
  },
  {
   "cell_type": "code",
   "execution_count": 38,
   "id": "8c96c84a",
   "metadata": {},
   "outputs": [],
   "source": [
    "pdf_path = \"../medical_results/result_1.pdf\"\n",
    "pdf_text = extract_text_from_pdf(pdf_path)"
   ]
  },
  {
   "cell_type": "code",
   "execution_count": 39,
   "id": "553799be",
   "metadata": {},
   "outputs": [
    {
     "name": "stdout",
     "output_type": "stream",
     "text": [
      "Din raportul de histopatologie analizat, rezultă următoarele:\n",
      "\n",
      "### Concluzie principală:\n",
      "**A fost identificat un fibroadenom mamar.**  \n",
      "Aceasta este o **leziune benignă (necanceroasă)** a sânului, ceea ce înseamnă că nu este cancer și nu este o amenințare imediată pentru sănătate.\n",
      "\n",
      "### Ce este un fibroadenom?\n",
      "Fibroadenomul este un tip comun de tumoră benignă la nivelul sânilor, formată din țesut conjunctiv și glandular. Este de obicei:\n",
      "- Rotunjor, bine delimitat,\n",
      "- Mobil la palpare,\n",
      "- De consistență fermă.\n",
      "\n",
      "Este frecvent la femeile tinere (sub 35 de ani), poate varia în dimensiune și nu are, de regulă, potențial de a deveni canceros.\n",
      "\n",
      "### Ce arată raportul?\n",
      "- Fibroadenom *peri- și intracanalicular* – este o formă obișnuită, cu structuri atrase în jurul și în interiorul ductelor galactofore.\n",
      "- Hiperplazie epitelială redusă – modificări minore la nivelul celulelor ductale, dar nu agresive.\n",
      "- S-au observat și **mici chisturi mamare** și o **inflamație limitată**.\n",
      "  \n",
      "Toate acestea sunt considerate în limitele procesului benign și nu indică prezența cancerului.\n",
      "\n",
      "---\n",
      "\n",
      "### Ce înseamnă asta pentru dumneavoastră?\n",
      "- Nu este vorba despre cancer.\n",
      "- Nu este o situație de urgență medicală.\n",
      "- Fibroadenoamele pot fi lăsate nemonitorizate sau excizate din cauza dimensiunii, modificărilor sau a neliniștii pacientului – aceasta pare să fi fost deja realizată.\n",
      "\n",
      "---\n",
      "\n",
      "### Recomandări:\n",
      "- Discutați acest raport cu medicul dvs. de familie sau un specialist în chirurgie mamara/oncologie.\n",
      "- Dacă nu a fost deja îndepărtat, se poate recomanda monitorizare periodică prin ecografie mamară, în funcție de aprecierea medicului.\n",
      "- Nu uitați că **doar medicul curant poate face legătura între rezultatele testelor și starea dvs. generală de sănătate.**\n",
      "\n",
      "---\n",
      "\n",
      "Dacă aveți alte întrebări sau documente de analizat, sunt aici să vă ajut. 🌸\n"
     ]
    }
   ],
   "source": [
    "print(\n",
    "    call_asi_one_chatbot(\n",
    "    [\n",
    "        INITIAL_PROMPT,\n",
    "        {\"role\": \"user\", \"content\": pdf_text}\n",
    "    ], 1000\n",
    "    )\n",
    ")"
   ]
  },
  {
   "cell_type": "markdown",
   "id": "d2cce7ff",
   "metadata": {},
   "source": [
    "### Testing with \"knowledge base\""
   ]
  },
  {
   "cell_type": "code",
   "execution_count": 23,
   "id": "af33597d",
   "metadata": {},
   "outputs": [],
   "source": [
    "data_path_1 = \"../data/stage_0_breast-patient.pdf\"\n",
    "data_1 = extract_text_from_pdf(data_path_1)"
   ]
  },
  {
   "cell_type": "code",
   "execution_count": 31,
   "id": "d629a96e",
   "metadata": {},
   "outputs": [],
   "source": [
    "PROMPT_TO_ANSWER_FROM_PDF = {\n",
    "    \"role\":\"system\", \"content\":\n",
    "    \"\"\"\n",
    "    You are a medical assistant that interprets cancer-related pathology reports (such as histopathology results) provided to you as PDF content by the system.\n",
    "\n",
    "    Your response must:\n",
    "\n",
    "        Use only the information from the PDF — do not ask the user for more details or follow-up input.\n",
    "\n",
    "        Briefly state whether the report suggests:\n",
    "\n",
    "            a benign finding (e.g., fibroadenoma),\n",
    "\n",
    "            a malignant (cancerous) finding, or\n",
    "\n",
    "            an inconclusive or unclear result.\n",
    "\n",
    "        Explain the meaning in plain, simple language (no unexplained jargon).\n",
    "\n",
    "        Suggest appropriate next steps such as consulting a doctor or scheduling a follow-up — without giving medical advice or making a diagnosis.\n",
    "\n",
    "        Remind the user that only a licensed physician can confirm the diagnosis and recommend treatment.\n",
    "\n",
    "    Keep responses:\n",
    "\n",
    "        Concise (under 200 words)\n",
    "\n",
    "        Compassionate and professional\n",
    "\n",
    "        Strictly based on the PDF report provided at all costs. If the user asks follow-up or related questions, respond only using the context and documents you were provided. If the answer is not available, reply:\n",
    "\n",
    "“I’m sorry, I don’t have that information.”\n",
    "\n",
    "Do not rely on user messages or questions — respond based solely on the content in the PDF.\n",
    "\n",
    "\"\"\" + data_1\n",
    "}"
   ]
  },
  {
   "cell_type": "code",
   "execution_count": 34,
   "id": "14a8391e",
   "metadata": {},
   "outputs": [
    {
     "name": "stdout",
     "output_type": "stream",
     "text": [
      "Based on the PDF content provided:\n",
      "\n",
      "- **Cancer Type**: Ductal Carcinoma In Situ (DCIS)\n",
      "- **Nature of the Report**: Educational and guidance resource for patients diagnosed with DCIS, based on the NCCN Clinical Practice Guidelines in Oncology (NCCN Guidelines®) for Breast Cancer.\n",
      "- **Focus**: Understanding DCIS, testing methods, treatment planning, surgical and other therapeutic options, and supportive care resources.\n",
      "\n",
      "### Summary of Key Information:\n",
      "\n",
      "**1. Benign, Malignant, or Inconclusive?**\n",
      "- **Findings**: The document clearly outlines that DCIS is a **malignant** (cancerous) condition, albeit **noninvasive**.\n",
      "\n",
      "**2. What is DCIS?**\n",
      "- Ductal Carcinoma In Situ (DCIS) is a condition where abnormal cells are found in the lining of the breast ducts but have not spread outside these ducts into nearby breast tissue. It is described as stage 0 or noninvasive cancer.\n",
      "\n",
      "**3. Explanation in Simple Language:**\n",
      "- DCIS is a type of breast cancer that is in its earliest stage. The cells are abnormal and have the potential to become invasive if not treated. However, at this stage, the cancer is **confined to the milk ducts** and has not affected surrounding tissues.\n",
      "\n",
      "### Key Recommendations and Next Steps:\n",
      "\n",
      "**1. Testing for DCIS:**\n",
      "   - **Diagnostic Tools**: Mammograms, clinical exams, biopsies (core needle, excisional, or fine-needle aspirate), and Magnetic Resonance Imaging (MRI) of the breast may be used to diagnose DCIS.\n",
      "   - **Pathology**: A biopsy sample is used to determine estrogen receptor (ER) status and grade of the cancer.\n",
      "   - **Genetic Risk Testing**: Considered for some patients based on family history or other cancer risk factors.\n",
      "\n",
      "**2. Treatment Options:**\n",
      "   - **Surgery**:\n",
      "     - **Lumpectomy (Breast-Conserving Surgery)**: Removing the tumor and a small amount of surrounding normal tissue.\n",
      "     - **Mastectomy**: Removing the entire breast, sometimes with lymph node evaluation if indicated (e.g., sentinel lymph node biopsy).\n",
      "   - **Radiation Therapy**:\n",
      "     - Typically given after a lumpectomy. Options include whole breast radiation therapy (WBRT) or accelerated partial breast irradiation (APBI).\n",
      "   - **Endocrine Therapy**:\n",
      "     - Used if the cancer cells are ER+. May include drugs like tamoxifen or aromatase inhibitors.\n",
      "\n",
      "   - **Clinical Trials and Supportive Care**:\n",
      "     - Participation in clinical trials may be an option, especially for patients seeking the most advanced treatment options.\n",
      "     - Supportive care options address emotional, physical, and psychosocial needs and include counseling, pain management, and lifestyle guidance.\n",
      "\n",
      "**3. Recovery and Follow-up:**\n",
      "   - After surgery, possible options include flat closure (where the skin is sewn together without reconstruction) or breast reconstruction using implants or tissue flaps.\n",
      "   - Follow-up includes regular mammograms, physical exams, and meeting with healthcare teams to monitor for recurrence.\n",
      "\n",
      "**4. Required Next Steps Based on This Report:**\n",
      "   - **Consultation**: Discuss all diagnostic results and treatment options with a breast cancer specialist or oncology team.\n",
      "   - **Schedule Follow-Up Appointments**: Consistently attend imaging tests or consultations as recommended.\n",
      "   - **Personalized Care**: Use this guide to better understand potential options for surgery, radiation, and hormone therapy tailored to ER/PR, grade, and other risk factors.\n",
      "   - **Psychosocial Support**: Connect with counseling, support groups, or clinical trial counselors (resources listed include CancerCare, Cancer Hope Network, etc.).\n",
      "\n",
      "### Important Reminder:\n",
      "- **This report is not a substitute for professional medical advice. Only a licensed physician or medical team can confirm the diagnosis, stage, and appropriate treatment plan.**\n",
      "- **Patients are encouraged to actively discuss their individual diagnosis, treatment options, and future steps with their care team.**\n",
      "\n",
      "Let me know if you need a breakdown of any specific section or require clarification.\n"
     ]
    }
   ],
   "source": [
    "print(call_asi_one_chatbot(\n",
    "    [\n",
    "        PROMPT_TO_ANSWER_FROM_PDF,\n",
    "        {\"role\": \"user\", \"content\": pdf_path},\n",
    "    ] ,1000\n",
    "))"
   ]
  },
  {
   "cell_type": "code",
   "execution_count": null,
   "id": "d1a6611e",
   "metadata": {},
   "outputs": [],
   "source": []
  }
 ],
 "metadata": {
  "kernelspec": {
   "display_name": "venv",
   "language": "python",
   "name": "python3"
  },
  "language_info": {
   "codemirror_mode": {
    "name": "ipython",
    "version": 3
   },
   "file_extension": ".py",
   "mimetype": "text/x-python",
   "name": "python",
   "nbconvert_exporter": "python",
   "pygments_lexer": "ipython3",
   "version": "3.13.3"
  }
 },
 "nbformat": 4,
 "nbformat_minor": 5
}
